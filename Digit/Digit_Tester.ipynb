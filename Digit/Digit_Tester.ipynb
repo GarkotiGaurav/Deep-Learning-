{
 "cells": [
  {
   "cell_type": "code",
   "execution_count": 1,
   "metadata": {},
   "outputs": [],
   "source": [
    "import cv2\n",
    "import numpy as np\n",
    "import pickle"
   ]
  },
  {
   "cell_type": "code",
   "execution_count": 2,
   "metadata": {},
   "outputs": [
    {
     "name": "stderr",
     "output_type": "stream",
     "text": [
      "Using TensorFlow backend.\n"
     ]
    }
   ],
   "source": [
    "cap = cv2.VideoCapture(0)\n",
    "cap.set(3, 640)\n",
    "cap.set(4, 480)\n",
    "\n",
    "pickle_in = open('model_trained.p', 'rb')\n",
    "model = pickle.load(pickle_in)"
   ]
  },
  {
   "cell_type": "code",
   "execution_count": 3,
   "metadata": {},
   "outputs": [],
   "source": [
    "def preProcessing(img):\n",
    "    img = cv2.cvtColor(img, cv2.COLOR_BGR2GRAY)\n",
    "    img = cv2.equalizeHist(img)\n",
    "    img = img / 255\n",
    "    return img"
   ]
  },
  {
   "cell_type": "code",
   "execution_count": 22,
   "metadata": {},
   "outputs": [],
   "source": [
    "while True:\n",
    "    success, imgOriginal = cap.read()\n",
    "    img = np.asarray(imgOriginal)\n",
    "    img = cv2.resize(img, (32,32))\n",
    "    img = preProcessing(img)\n",
    "    #cv2.imshow('Preprocessd Image', img)\n",
    "    #cv2.rectangle(imgOriginal, (10, 300), (150, 100), (255, 255, 255), 2)\n",
    "    \n",
    "    #roi = imgOriginal[10:150, 300:100]\n",
    "    #img = cv2.cvtColor(roi, cv2.COLOR_BGR2RGB)\n",
    "    img = img.reshape(1,32,32,1)\n",
    "    \n",
    "    classPredict = int(model.predict_classes(img))\n",
    "    #print(classPredict)\n",
    "    \n",
    "    prediction = model.predict(img)\n",
    "    #print(prediction)\n",
    "    \n",
    "    probVal = np.amax(prediction)\n",
    "    #print(classPredict, probVal)\n",
    "    \n",
    "    if probVal > 0.7:\n",
    "        cv2.putText(imgOriginal, str(classPredict), (50,50), cv2.FONT_HERSHEY_COMPLEX, 1, (0,0,255), 1)\n",
    "    \n",
    "    cv2.imshow('Original Image', imgOriginal)\n",
    "    if cv2.waitKey(1) & 0xFF == ord('q'):\n",
    "        break"
   ]
  },
  {
   "cell_type": "code",
   "execution_count": null,
   "metadata": {},
   "outputs": [],
   "source": []
  },
  {
   "cell_type": "code",
   "execution_count": null,
   "metadata": {},
   "outputs": [],
   "source": []
  },
  {
   "cell_type": "code",
   "execution_count": null,
   "metadata": {},
   "outputs": [],
   "source": []
  }
 ],
 "metadata": {
  "kernelspec": {
   "display_name": "Python 3",
   "language": "python",
   "name": "python3"
  },
  "language_info": {
   "codemirror_mode": {
    "name": "ipython",
    "version": 3
   },
   "file_extension": ".py",
   "mimetype": "text/x-python",
   "name": "python",
   "nbconvert_exporter": "python",
   "pygments_lexer": "ipython3",
   "version": "3.7.9"
  }
 },
 "nbformat": 4,
 "nbformat_minor": 4
}
