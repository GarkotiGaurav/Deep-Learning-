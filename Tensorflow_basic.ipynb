{
 "cells": [
  {
   "cell_type": "code",
   "execution_count": 1,
   "metadata": {},
   "outputs": [],
   "source": [
    "import tensorflow as tf"
   ]
  },
  {
   "cell_type": "code",
   "execution_count": 2,
   "metadata": {},
   "outputs": [],
   "source": [
    "# building a computational graph\n",
    "tf.compat.v1.disable_eager_execution()\n",
    "# defining constant\n",
    "node1 = tf.constant(3.0, tf.float32)\n",
    "node2 = tf.constant(4.0)\n"
   ]
  },
  {
   "cell_type": "code",
   "execution_count": 3,
   "metadata": {},
   "outputs": [
    {
     "name": "stdout",
     "output_type": "stream",
     "text": [
      "[3.0, 4.0]\n"
     ]
    }
   ],
   "source": [
    "# We have to first create session in order to run tensorflow \n",
    "sess = tf.compat.v1.Session()\n",
    "print(sess.run([node1, node2]))\n",
    "# We have to close session once our task is completed\n",
    "sess.close()"
   ]
  },
  {
   "cell_type": "code",
   "execution_count": 4,
   "metadata": {},
   "outputs": [
    {
     "name": "stdout",
     "output_type": "stream",
     "text": [
      "7\n"
     ]
    }
   ],
   "source": [
    "# have to disable eager execution in TF2.0\n",
    "tf.compat.v1.disable_eager_execution()\n",
    "# Adding 2 numbers using tensorflow\n",
    "a = tf.constant(2)\n",
    "b = tf.constant(5)\n",
    "\n",
    "d = tf.add(a,b)\n",
    "\n",
    "# Creating Session\n",
    "sess = tf.compat.v1.Session()\n",
    "g = sess.run(d)\n",
    "print(g)\n",
    "sess.close()"
   ]
  },
  {
   "cell_type": "markdown",
   "metadata": {},
   "source": [
    " - By constant we have to provide the value in starting.\n",
    " - to overcome this we use placeholder by which we can provide values later"
   ]
  },
  {
   "cell_type": "code",
   "execution_count": 5,
   "metadata": {},
   "outputs": [],
   "source": [
    "tf.compat.v1.disable_eager_execution()\n",
    "\n",
    "# first we have to provide type of variable first\n",
    "a = tf.compat.v1.placeholder(tf.float32)\n",
    "b = tf.compat.v1.placeholder(tf.float32)\n",
    "\n",
    "c = a*b\n",
    "\n",
    "sess = tf.compat.v1.Session()\n",
    "# Providing values to the placeholder\n",
    "sess.run(c,{a:[1,2], b:[2,3]})\n",
    "sess.close()"
   ]
  },
  {
   "cell_type": "markdown",
   "metadata": {},
   "source": [
    "In order to make our model trainable we have to introduce Variables that allow use to as trainable parameters to our graph"
   ]
  },
  {
   "cell_type": "code",
   "execution_count": 6,
   "metadata": {},
   "outputs": [
    {
     "name": "stdout",
     "output_type": "stream",
     "text": [
      "WARNING:tensorflow:From C:\\Users\\Diksha\\Anaconda3\\envs\\tensorflow\\lib\\site-packages\\tensorflow_core\\python\\ops\\resource_variable_ops.py:1635: calling BaseResourceVariable.__init__ (from tensorflow.python.ops.resource_variable_ops) with constraint is deprecated and will be removed in a future version.\n",
      "Instructions for updating:\n",
      "If using Keras pass *_constraint arguments to layers.\n",
      "[0.3        0.90000004 1.5        1.2       ]\n"
     ]
    }
   ],
   "source": [
    "tf.compat.v1.disable_eager_execution()\n",
    "\n",
    "# Initilizing variables\n",
    "W = tf.Variable([.3], tf.float32)\n",
    "b = tf.Variable([-.3], tf.float32)\n",
    "x = tf.compat.v1.placeholder(tf.float32)\n",
    "\n",
    "c = W*x + b\n",
    "\n",
    "# initlizing our globale variables\n",
    "init = tf.compat.v1.global_variables_initializer()\n",
    "\n",
    "# starting session\n",
    "sess = tf.compat.v1.Session()\n",
    "sess.run(init)\n",
    "\n",
    "# Proving value of our placeholder\n",
    "print(sess.run(c,{x:[2,4,6,5]}))"
   ]
  },
  {
   "cell_type": "markdown",
   "metadata": {},
   "source": [
    "### Loss Function\n",
    "\n",
    "- A loss function measures how far our predicted value is from actual value"
   ]
  },
  {
   "cell_type": "code",
   "execution_count": 15,
   "metadata": {},
   "outputs": [
    {
     "name": "stdout",
     "output_type": "stream",
     "text": [
      "23.66\n"
     ]
    }
   ],
   "source": [
    "# To evaluate the model on training data\n",
    "y = tf.compat.v1.placeholder(tf.float32)\n",
    "\n",
    "squared_deltas = tf.compat.v1.square(c - y)\n",
    "\n",
    "loss = tf.compat.v1.reduce_sum(squared_deltas)\n",
    "\n",
    "print(sess.run(loss, {x:[1,2,3,4], y:[0,-1,-2,-3]}))"
   ]
  },
  {
   "cell_type": "markdown",
   "metadata": {},
   "source": [
    "As we can see our loss is much more higher. In order to reduce our loss Tensorflow provide Gradient Descent"
   ]
  },
  {
   "cell_type": "code",
   "execution_count": 17,
   "metadata": {},
   "outputs": [
    {
     "name": "stdout",
     "output_type": "stream",
     "text": [
      "[array([-0.9999969], dtype=float32), array([0.9999908], dtype=float32)]\n"
     ]
    }
   ],
   "source": [
    "# Creating optimizer to reduce our loss\n",
    "# 0.01 will be our learning rate\n",
    "optimizer = tf.compat.v1.train.GradientDescentOptimizer(0.01)\n",
    "\n",
    "train = optimizer.minimize(loss)\n",
    "\n",
    "sess.run(init)\n",
    "for i in range(1000):\n",
    "    sess.run(train, {x:[1,2,3,4], y:[0,-1,-2,-3]})\n",
    "print(sess.run([a,b]))"
   ]
  },
  {
   "cell_type": "markdown",
   "metadata": {},
   "source": [
    "To minimize loss value for a should be -0.9999969 and b should be 0.9999908"
   ]
  },
  {
   "cell_type": "code",
   "execution_count": null,
   "metadata": {},
   "outputs": [],
   "source": []
  }
 ],
 "metadata": {
  "kernelspec": {
   "display_name": "Python 3",
   "language": "python",
   "name": "python3"
  },
  "language_info": {
   "codemirror_mode": {
    "name": "ipython",
    "version": 3
   },
   "file_extension": ".py",
   "mimetype": "text/x-python",
   "name": "python",
   "nbconvert_exporter": "python",
   "pygments_lexer": "ipython3",
   "version": "3.7.7"
  }
 },
 "nbformat": 4,
 "nbformat_minor": 4
}
